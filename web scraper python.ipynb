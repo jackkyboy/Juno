{
 "cells": [
  {
   "cell_type": "code",
   "execution_count": 2,
   "id": "808041c7",
   "metadata": {},
   "outputs": [
    {
     "name": "stdout",
     "output_type": "stream",
     "text": [
      "Requirement already satisfied: bs4 in ./opt/anaconda3/lib/python3.9/site-packages (0.0.1)\n",
      "Requirement already satisfied: beautifulsoup4 in ./opt/anaconda3/lib/python3.9/site-packages (from bs4) (4.10.0)\n",
      "Requirement already satisfied: soupsieve>1.2 in ./opt/anaconda3/lib/python3.9/site-packages (from beautifulsoup4->bs4) (2.2.1)\n",
      "Note: you may need to restart the kernel to use updated packages.\n"
     ]
    }
   ],
   "source": [
    "pip install bs4"
   ]
  },
  {
   "cell_type": "code",
   "execution_count": 44,
   "id": "2144938b",
   "metadata": {},
   "outputs": [
    {
     "name": "stdout",
     "output_type": "stream",
     "text": [
      "Requirement already satisfied: openpyxl in ./opt/anaconda3/lib/python3.9/site-packages (3.0.9)\n",
      "Requirement already satisfied: et-xmlfile in ./opt/anaconda3/lib/python3.9/site-packages (from openpyxl) (1.1.0)\n",
      "Note: you may need to restart the kernel to use updated packages.\n"
     ]
    }
   ],
   "source": [
    "pip install openpyxl"
   ]
  },
  {
   "cell_type": "code",
   "execution_count": 3,
   "id": "08af6d11",
   "metadata": {},
   "outputs": [
    {
     "name": "stdout",
     "output_type": "stream",
     "text": [
      "Requirement already satisfied: pandas in ./opt/anaconda3/lib/python3.9/site-packages (1.3.4)\n",
      "Requirement already satisfied: python-dateutil>=2.7.3 in ./opt/anaconda3/lib/python3.9/site-packages (from pandas) (2.8.2)\n",
      "Requirement already satisfied: pytz>=2017.3 in ./opt/anaconda3/lib/python3.9/site-packages (from pandas) (2021.3)\n",
      "Requirement already satisfied: numpy>=1.17.3 in ./opt/anaconda3/lib/python3.9/site-packages (from pandas) (1.20.3)\n",
      "Requirement already satisfied: six>=1.5 in ./opt/anaconda3/lib/python3.9/site-packages (from python-dateutil>=2.7.3->pandas) (1.16.0)\n",
      "Note: you may need to restart the kernel to use updated packages.\n"
     ]
    }
   ],
   "source": [
    "pip install pandas"
   ]
  },
  {
   "cell_type": "code",
   "execution_count": 5,
   "id": "d6299933",
   "metadata": {},
   "outputs": [
    {
     "name": "stdout",
     "output_type": "stream",
     "text": [
      "Requirement already satisfied: requests in ./opt/anaconda3/lib/python3.9/site-packages (2.26.0)\n",
      "Requirement already satisfied: idna<4,>=2.5 in ./opt/anaconda3/lib/python3.9/site-packages (from requests) (3.2)\n",
      "Requirement already satisfied: charset-normalizer~=2.0.0 in ./opt/anaconda3/lib/python3.9/site-packages (from requests) (2.0.4)\n",
      "Requirement already satisfied: certifi>=2017.4.17 in ./opt/anaconda3/lib/python3.9/site-packages (from requests) (2021.10.8)\n",
      "Requirement already satisfied: urllib3<1.27,>=1.21.1 in ./opt/anaconda3/lib/python3.9/site-packages (from requests) (1.26.7)\n",
      "Note: you may need to restart the kernel to use updated packages.\n"
     ]
    }
   ],
   "source": [
    "pip install requests"
   ]
  },
  {
   "cell_type": "code",
   "execution_count": 45,
   "id": "36a06e2b",
   "metadata": {},
   "outputs": [],
   "source": [
    "import pandas as pd\n",
    "import bs4\n",
    "import requests\n",
    "import openpyxl"
   ]
  },
  {
   "cell_type": "code",
   "execution_count": 43,
   "id": "a48fb38b",
   "metadata": {},
   "outputs": [
    {
     "name": "stdout",
     "output_type": "stream",
     "text": [
      "Complete page nubber:  1\n",
      "Complete page nubber:  2\n",
      "Complete page nubber:  3\n",
      "Complete page nubber:  4\n",
      "Complete page nubber:  5\n",
      "Complete page nubber:  6\n",
      "Complete page nubber:  7\n",
      "Complete page nubber:  8\n",
      "Complete page nubber:  9\n",
      "Complete page nubber:  10\n",
      "Complete page nubber:  11\n",
      "Complete page nubber:  12\n",
      "Complete page nubber:  13\n",
      "Complete page nubber:  14\n",
      "Complete page nubber:  15\n",
      "Complete page nubber:  16\n",
      "Complete page nubber:  17\n",
      "Complete page nubber:  18\n",
      "Complete page nubber:  19\n",
      "Complete page nubber:  20\n",
      "Complete page nubber:  21\n",
      "Complete page nubber:  22\n",
      "Complete page nubber:  23\n",
      "Complete page nubber:  24\n",
      "Complete page nubber:  25\n",
      "Complete page nubber:  26\n",
      "Complete page nubber:  27\n",
      "Complete page nubber:  28\n",
      "Complete page nubber:  29\n",
      "Complete page nubber:  30\n",
      "Complete page nubber:  31\n",
      "Complete page nubber:  32\n",
      "Complete page nubber:  33\n",
      "Complete page nubber:  34\n",
      "Complete page nubber:  35\n",
      "Complete page nubber:  36\n",
      "Complete page nubber:  37\n",
      "Complete page nubber:  38\n",
      "Complete page nubber:  39\n",
      "Complete page nubber:  40\n",
      "Complete page nubber:  41\n",
      "Complete page nubber:  42\n",
      "Complete page nubber:  43\n",
      "Complete page nubber:  44\n",
      "Complete page nubber:  45\n",
      "Complete page nubber:  46\n",
      "Complete page nubber:  47\n",
      "Complete page nubber:  48\n",
      "Complete page nubber:  49\n",
      "Complete page nubber:  50\n",
      "Complete page nubber:  51\n",
      "Complete page nubber:  52\n",
      "Complete page nubber:  53\n",
      "Complete page nubber:  54\n",
      "Complete page nubber:  55\n",
      "Complete page nubber:  56\n",
      "Complete page nubber:  57\n",
      "Complete page nubber:  58\n",
      "Complete page nubber:  59\n",
      "Complete page nubber:  60\n",
      "Complete page nubber:  61\n",
      "Complete page nubber:  62\n",
      "Complete page nubber:  63\n",
      "Complete page nubber:  64\n",
      "Complete page nubber:  65\n",
      "Complete page nubber:  66\n",
      "Complete page nubber:  67\n",
      "Complete page nubber:  68\n",
      "Complete page nubber:  69\n",
      "Complete page nubber:  70\n",
      "Complete page nubber:  71\n",
      "Complete page nubber:  72\n",
      "Complete page nubber:  73\n",
      "Complete page nubber:  74\n",
      "Complete page nubber:  75\n",
      "Complete page nubber:  76\n",
      "Complete page nubber:  77\n",
      "Complete page nubber:  78\n",
      "Complete page nubber:  79\n",
      "Complete page nubber:  80\n",
      "Complete page nubber:  81\n",
      "Complete page nubber:  82\n",
      "Complete page nubber:  83\n",
      "Complete page nubber:  84\n",
      "Complete page nubber:  85\n",
      "Complete page nubber:  86\n",
      "Complete page nubber:  87\n",
      "Complete page nubber:  88\n",
      "Complete page nubber:  89\n",
      "Complete page nubber:  90\n",
      "Complete page nubber:  91\n",
      "Complete page nubber:  92\n",
      "Complete page nubber:  93\n",
      "Complete page nubber:  94\n"
     ]
    },
    {
     "data": {
      "text/html": [
       "<div>\n",
       "<style scoped>\n",
       "    .dataframe tbody tr th:only-of-type {\n",
       "        vertical-align: middle;\n",
       "    }\n",
       "\n",
       "    .dataframe tbody tr th {\n",
       "        vertical-align: top;\n",
       "    }\n",
       "\n",
       "    .dataframe thead th {\n",
       "        text-align: right;\n",
       "    }\n",
       "</style>\n",
       "<table border=\"1\" class=\"dataframe\">\n",
       "  <thead>\n",
       "    <tr style=\"text-align: right;\">\n",
       "      <th></th>\n",
       "      <th>price</th>\n",
       "    </tr>\n",
       "    <tr>\n",
       "      <th>name</th>\n",
       "      <th></th>\n",
       "    </tr>\n",
       "  </thead>\n",
       "  <tbody>\n",
       "    <tr>\n",
       "      <th>Mazda 2 1.3 E Sedan  ปี 2022</th>\n",
       "      <td>546000</td>\n",
       "    </tr>\n",
       "    <tr>\n",
       "      <th>Mazda 2 1.3 E Sports HB  ปี 2022</th>\n",
       "      <td>546000</td>\n",
       "    </tr>\n",
       "    <tr>\n",
       "      <th>Mazda 2 1.3 C Sedan  ปี 2022</th>\n",
       "      <td>599000</td>\n",
       "    </tr>\n",
       "    <tr>\n",
       "      <th>Mazda 2 1.3 C Sports HB  ปี 2022</th>\n",
       "      <td>599000</td>\n",
       "    </tr>\n",
       "    <tr>\n",
       "      <th>Mazda 2 1.3 S Leather Sedan  ปี 2022</th>\n",
       "      <td>659000</td>\n",
       "    </tr>\n",
       "    <tr>\n",
       "      <th>...</th>\n",
       "      <td>...</td>\n",
       "    </tr>\n",
       "    <tr>\n",
       "      <th>BMW Series 4 430i Convertible M Sport ซีรีส์ 4 ปี 2022</th>\n",
       "      <td>call</td>\n",
       "    </tr>\n",
       "    <tr>\n",
       "      <th>BMW X7 XDrive40d M Sport  ปี 2022</th>\n",
       "      <td>call</td>\n",
       "    </tr>\n",
       "    <tr>\n",
       "      <th>Ford Ranger Double Cab 3.0L V6 EcoBoost Raptor 4X4 10AT เรนเจอร์ ปี 2022</th>\n",
       "      <td>call</td>\n",
       "    </tr>\n",
       "    <tr>\n",
       "      <th>Ferrari 812 Superfast V12  ปี 2017</th>\n",
       "      <td>call</td>\n",
       "    </tr>\n",
       "    <tr>\n",
       "      <th>Aston Martin DB11 Coupe ดีบี11 ปี 2016</th>\n",
       "      <td>call</td>\n",
       "    </tr>\n",
       "  </tbody>\n",
       "</table>\n",
       "<p>911 rows × 1 columns</p>\n",
       "</div>"
      ],
      "text/plain": [
       "                                                     price\n",
       "name                                                      \n",
       "Mazda 2 1.3 E Sedan  ปี 2022                        546000\n",
       "Mazda 2 1.3 E Sports HB  ปี 2022                    546000\n",
       "Mazda 2 1.3 C Sedan  ปี 2022                        599000\n",
       "Mazda 2 1.3 C Sports HB  ปี 2022                    599000\n",
       "Mazda 2 1.3 S Leather Sedan  ปี 2022                659000\n",
       "...                                                    ...\n",
       "BMW Series 4 430i Convertible M Sport ซีรีส์ 4 ...    call\n",
       "BMW X7 XDrive40d M Sport  ปี 2022                     call\n",
       "Ford Ranger Double Cab 3.0L V6 EcoBoost Raptor ...    call\n",
       "Ferrari 812 Superfast V12  ปี 2017                    call\n",
       "Aston Martin DB11 Coupe ดีบี11 ปี 2016                call\n",
       "\n",
       "[911 rows x 1 columns]"
      ]
     },
     "execution_count": 43,
     "metadata": {},
     "output_type": "execute_result"
    }
   ],
   "source": [
    "page = 1\n",
    "name_list = []\n",
    "price_list = []\n",
    "while page <= 94:\n",
    "    data = requests.get('https://www.checkraka.com/car/?quicksearch_order=306%2CDESC-326%2CASC&page=' + str(page))\n",
    "    soup = bs4.BeautifulSoup(data.text)\n",
    "    for c in soup.find_all('div',{'class':'content c158'}):\n",
    "        name_list.append(c.find('div',{'class':'data'}).find('a').text)\n",
    "        p = c.find('div',{'class':'price'}).text.split()[0].replace(',','')\n",
    "        if p == 'call':\n",
    "            price_list.append(p)\n",
    "        else:\n",
    "            price_list.append(int(p))\n",
    "    print('Complete page nubber: ',page)\n",
    "    page += 1\n",
    "        \n",
    "table = pd.DataFrame([name_list,price_list]).transpose()\n",
    "table.columns = ['name','price']\n",
    "table.set_index('name')"
   ]
  },
  {
   "cell_type": "code",
   "execution_count": 47,
   "id": "88ccddae",
   "metadata": {},
   "outputs": [],
   "source": [
    "table = table.set_index('name')"
   ]
  },
  {
   "cell_type": "code",
   "execution_count": 49,
   "id": "8d1ef234",
   "metadata": {},
   "outputs": [],
   "source": [
    "table.to_excel('All Cars.xlsx',engine='openpyxl')"
   ]
  },
  {
   "cell_type": "code",
   "execution_count": null,
   "id": "e509d0b2",
   "metadata": {},
   "outputs": [],
   "source": []
  },
  {
   "cell_type": "code",
   "execution_count": null,
   "id": "b6ec7896",
   "metadata": {},
   "outputs": [],
   "source": []
  }
 ],
 "metadata": {
  "kernelspec": {
   "display_name": "Python 3 (ipykernel)",
   "language": "python",
   "name": "python3"
  },
  "language_info": {
   "codemirror_mode": {
    "name": "ipython",
    "version": 3
   },
   "file_extension": ".py",
   "mimetype": "text/x-python",
   "name": "python",
   "nbconvert_exporter": "python",
   "pygments_lexer": "ipython3",
   "version": "3.9.7"
  }
 },
 "nbformat": 4,
 "nbformat_minor": 5
}
